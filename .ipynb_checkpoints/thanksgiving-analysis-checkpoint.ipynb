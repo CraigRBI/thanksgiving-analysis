{
 "cells": [
  {
   "cell_type": "code",
   "execution_count": 249,
   "metadata": {
    "collapsed": true
   },
   "outputs": [],
   "source": [
    "import os, numpy as np, pandas as pd\n",
    "\n",
    "data = pd.read_csv(\"thanksgiving-data/thanksgiving-2015-poll-data.csv\", encoding=\"Latin-1\")"
   ]
  },
  {
   "cell_type": "markdown",
   "metadata": {},
   "source": [
    "# Question:\n",
    "What percentage of people celebrate Thanksgiving from the supplied poll data?"
   ]
  },
  {
   "cell_type": "code",
   "execution_count": 250,
   "metadata": {
    "collapsed": false
   },
   "outputs": [
    {
     "name": "stdout",
     "output_type": "stream",
     "text": [
      "0.9262759924385633\n"
     ]
    }
   ],
   "source": [
    "celebrate_ratio = len(data[data[\"Do you celebrate Thanksgiving?\"] == \"Yes\"]) / len(data[\"Do you celebrate Thanksgiving?\"])\n",
    "\n",
    "filtered_data = data[data[\"Do you celebrate Thanksgiving?\"] == \"Yes\"]\n",
    "\n",
    "print(celebrate_ratio)"
   ]
  },
  {
   "cell_type": "markdown",
   "metadata": {},
   "source": [
    "# Conclusion:\n",
    "~93%"
   ]
  },
  {
   "cell_type": "markdown",
   "metadata": {},
   "source": [
    "# Question:\n",
    "How many people ate each type of main dish for Thanksgiving, and how many people had gravy with their tofurkey?"
   ]
  },
  {
   "cell_type": "code",
   "execution_count": 251,
   "metadata": {
    "collapsed": false
   },
   "outputs": [
    {
     "name": "stdout",
     "output_type": "stream",
     "text": [
      "Turkey                    859\n",
      "Other (please specify)     35\n",
      "Ham/Pork                   29\n",
      "Tofurkey                   20\n",
      "Chicken                    12\n",
      "Roast beef                 11\n",
      "I don't know                5\n",
      "Turducken                   3\n",
      "Name: What is typically the main dish at your Thanksgiving dinner?, dtype: int64\n",
      "Yes    12\n",
      "No      8\n",
      "Name: Do you typically have gravy?, dtype: int64\n"
     ]
    }
   ],
   "source": [
    "print(data[\"What is typically the main dish at your Thanksgiving dinner?\"].value_counts())\n",
    "\n",
    "print(data[\"Do you typically have gravy?\"][data[\"What is typically the main dish at your Thanksgiving dinner?\"] == \"Tofurkey\"].value_counts())"
   ]
  },
  {
   "cell_type": "markdown",
   "metadata": {},
   "source": [
    "# Conclusion:\n",
    "See above for count distribution of main dishes. \n",
    "\n",
    "12 people had gravy with their tofurkey."
   ]
  },
  {
   "cell_type": "markdown",
   "metadata": {},
   "source": [
    "# Question:\n",
    "How many people didn't choose either pumpkin, pecan or apple pie for Thanksgiving?"
   ]
  },
  {
   "cell_type": "code",
   "execution_count": 252,
   "metadata": {
    "collapsed": false
   },
   "outputs": [
    {
     "name": "stdout",
     "output_type": "stream",
     "text": [
      "False    876\n",
      "True     104\n",
      "dtype: int64\n"
     ]
    }
   ],
   "source": [
    "apple_pie = filtered_data[\"Which type of pie is typically served at your Thanksgiving dinner? Please select all that apply. - Apple\"]\n",
    "pumpkin_pie = filtered_data[\"Which type of pie is typically served at your Thanksgiving dinner? Please select all that apply. - Pumpkin\"]\n",
    "pecan_pie = filtered_data[\"Which type of pie is typically served at your Thanksgiving dinner? Please select all that apply. - Pecan\"]\n",
    "\n",
    "print((pd.isnull(apple_pie) & pd.isnull(pumpkin_pie) & pd.isnull(pecan_pie)).value_counts())"
   ]
  },
  {
   "cell_type": "markdown",
   "metadata": {},
   "source": [
    "# Conclusion:\n",
    "104 people didn't eat any of the specified pies for Thanksgiving."
   ]
  },
  {
   "cell_type": "markdown",
   "metadata": {},
   "source": [
    "# Question:\n",
    "Find the mean (lower) age of people taking part in this poll."
   ]
  },
  {
   "cell_type": "code",
   "execution_count": 253,
   "metadata": {
    "collapsed": false
   },
   "outputs": [
    {
     "name": "stdout",
     "output_type": "stream",
     "text": [
      "39.38341463414634\n"
     ]
    }
   ],
   "source": [
    "def get_lower_age (row):\n",
    "    if pd.isnull(row):\n",
    "        return(None)\n",
    "    elif \"+\" in row:\n",
    "        return(int(row.replace('+','')))\n",
    "    else:\n",
    "        return(int(row.split(' ')[0]))\n",
    "    \n",
    "ages = data[\"Age\"].apply(get_lower_age)\n",
    "\n",
    "print(np.mean(ages))"
   ]
  },
  {
   "cell_type": "markdown",
   "metadata": {},
   "source": [
    "# Conclusion:\n",
    "Mean (lower) age of people taking part in the poll was ~39."
   ]
  },
  {
   "cell_type": "markdown",
   "metadata": {},
   "source": [
    "# Question:\n",
    "Find the mean (lower) income of people taking part in this poll."
   ]
  },
  {
   "cell_type": "code",
   "execution_count": 254,
   "metadata": {
    "collapsed": false
   },
   "outputs": [
    {
     "name": "stdout",
     "output_type": "stream",
     "text": [
      "74077.61529808774\n"
     ]
    }
   ],
   "source": [
    "def get_lower_income (row):\n",
    "    if pd.isnull(row):\n",
    "        return(None)\n",
    "    elif \"Prefer\" in row:\n",
    "        return(None)\n",
    "    else:\n",
    "        return(int(row.split(' ')[0].replace('$','').replace(',','')))\n",
    "    \n",
    "income_column = data[\"How much total combined money did all members of your HOUSEHOLD earn last year?\"]\n",
    "incomes = income_column.apply(get_lower_income)\n",
    "print(np.mean(incomes))"
   ]
  },
  {
   "cell_type": "markdown",
   "metadata": {},
   "source": [
    "# Conclusion:\n",
    "Mean (lower) income of people taking part in the poll was ~$74,078."
   ]
  },
  {
   "cell_type": "markdown",
   "metadata": {},
   "source": [
    "# Question:\n",
    "Compare the distances people are willing to travel for Thanksgiving based on whether they are high or low earners."
   ]
  },
  {
   "cell_type": "code",
   "execution_count": 258,
   "metadata": {
    "collapsed": false
   },
   "outputs": [
    {
     "name": "stdout",
     "output_type": "stream",
     "text": [
      "Thanksgiving is happening at my home--I won't travel at all                         49\n",
      "Thanksgiving is local--it will take place in the town I live in                     25\n",
      "Thanksgiving is out of town but not too far--it's a drive of a few hours or less    16\n",
      "Thanksgiving is out of town and far away--I have to drive several hours or fly      12\n",
      "Name: How far will you travel for Thanksgiving?, dtype: int64\n",
      "Thanksgiving is happening at my home--I won't travel at all                         106\n",
      "Thanksgiving is local--it will take place in the town I live in                      92\n",
      "Thanksgiving is out of town but not too far--it's a drive of a few hours or less     64\n",
      "Thanksgiving is out of town and far away--I have to drive several hours or fly       16\n",
      "Name: How far will you travel for Thanksgiving?, dtype: int64\n"
     ]
    }
   ],
   "source": [
    "high_earner_data = filtered_data[\"How far will you travel for Thanksgiving?\"][incomes > 150000]\n",
    "low_earner_data = filtered_data[\"How far will you travel for Thanksgiving?\"][incomes < 50000]\n",
    "\n",
    "print(high_earner_data.value_counts())\n",
    "print(low_earner_data.value_counts())"
   ]
  },
  {
   "cell_type": "markdown",
   "metadata": {},
   "source": [
    "# Conclusion:\n",
    "A higher proportion of people with higher incomes (> $150,000) seem to stay at home for Thanksgiving."
   ]
  },
  {
   "cell_type": "markdown",
   "metadata": {
    "collapsed": true
   },
   "source": [
    "# Question:\n",
    "Figure out the most common dessert people ate for Thanksgiving."
   ]
  },
  {
   "cell_type": "code",
   "execution_count": 256,
   "metadata": {
    "collapsed": false,
    "scrolled": true
   },
   "outputs": [
    {
     "name": "stdout",
     "output_type": "stream",
     "text": [
      "Which of these desserts do you typically have at Thanksgiving dinner? Please select all that apply.   - Apple cobbler               110\n",
      "Which of these desserts do you typically have at Thanksgiving dinner? Please select all that apply.   - Blondies                     16\n",
      "Which of these desserts do you typically have at Thanksgiving dinner? Please select all that apply.   - Brownies                    128\n",
      "Which of these desserts do you typically have at Thanksgiving dinner? Please select all that apply.   - Carrot cake                  72\n",
      "Which of these desserts do you typically have at Thanksgiving dinner? Please select all that apply.   - Cheesecake                  191\n",
      "Which of these desserts do you typically have at Thanksgiving dinner? Please select all that apply.   - Cookies                     204\n",
      "Which of these desserts do you typically have at Thanksgiving dinner? Please select all that apply.   - Fudge                        43\n",
      "Which of these desserts do you typically have at Thanksgiving dinner? Please select all that apply.   - Ice cream                   266\n",
      "Which of these desserts do you typically have at Thanksgiving dinner? Please select all that apply.   - Peach cobbler               103\n",
      "Which of these desserts do you typically have at Thanksgiving dinner? Please select all that apply.   - None                        295\n",
      "Which of these desserts do you typically have at Thanksgiving dinner? Please select all that apply.   - Other (please specify)      134\n",
      "Which of these desserts do you typically have at Thanksgiving dinner? Please select all that apply.   - Other (please specify).1    134\n",
      "dtype: int64\n"
     ]
    }
   ],
   "source": [
    "print(filtered_data[filtered_data.columns[39:51]].count())"
   ]
  },
  {
   "cell_type": "markdown",
   "metadata": {},
   "source": [
    "# Conclusion:\n",
    "The most common dessert people ate was ice cream."
   ]
  },
  {
   "cell_type": "markdown",
   "metadata": {
    "collapsed": true
   },
   "source": [
    "# Question:\n",
    "Figure out the most common main dish eaten with each dessert for Thanksgiving."
   ]
  },
  {
   "cell_type": "code",
   "execution_count": 257,
   "metadata": {
    "collapsed": false
   },
   "outputs": [
    {
     "name": "stdout",
     "output_type": "stream",
     "text": [
      "  What is typically the main dish at your Thanksgiving dinner?  \\\n",
      "5                                             Turkey             \n",
      "\n",
      "  Which of these desserts do you typically have at Thanksgiving dinner? Please select all that apply.   - Apple cobbler  \\\n",
      "5                                      Apple cobbler                                                                      \n",
      "\n",
      "   Count  \n",
      "5     95  \n",
      "  What is typically the main dish at your Thanksgiving dinner?  \\\n",
      "1                                             Turkey             \n",
      "\n",
      "  Which of these desserts do you typically have at Thanksgiving dinner? Please select all that apply.   - Blondies  \\\n",
      "1                                           Blondies                                                                 \n",
      "\n",
      "   Count  \n",
      "1     15  \n",
      "  What is typically the main dish at your Thanksgiving dinner?  \\\n",
      "5                                             Turkey             \n",
      "\n",
      "  Which of these desserts do you typically have at Thanksgiving dinner? Please select all that apply.   - Brownies  \\\n",
      "5                                           Brownies                                                                 \n",
      "\n",
      "   Count  \n",
      "5    110  \n",
      "  What is typically the main dish at your Thanksgiving dinner?  \\\n",
      "4                                             Turkey             \n",
      "\n",
      "  Which of these desserts do you typically have at Thanksgiving dinner? Please select all that apply.   - Carrot cake  \\\n",
      "4                                        Carrot cake                                                                    \n",
      "\n",
      "   Count  \n",
      "4     65  \n",
      "  What is typically the main dish at your Thanksgiving dinner?  \\\n",
      "6                                             Turkey             \n",
      "\n",
      "  Which of these desserts do you typically have at Thanksgiving dinner? Please select all that apply.   - Cheesecake  \\\n",
      "6                                         Cheesecake                                                                   \n",
      "\n",
      "   Count  \n",
      "6    176  \n",
      "  What is typically the main dish at your Thanksgiving dinner?  \\\n",
      "6                                             Turkey             \n",
      "\n",
      "  Which of these desserts do you typically have at Thanksgiving dinner? Please select all that apply.   - Cookies  \\\n",
      "6                                            Cookies                                                                \n",
      "\n",
      "   Count  \n",
      "6    179  \n",
      "  What is typically the main dish at your Thanksgiving dinner?  \\\n",
      "3                                             Turkey             \n",
      "\n",
      "  Which of these desserts do you typically have at Thanksgiving dinner? Please select all that apply.   - Fudge  \\\n",
      "3                                              Fudge                                                              \n",
      "\n",
      "   Count  \n",
      "3     39  \n",
      "  What is typically the main dish at your Thanksgiving dinner?  \\\n",
      "7                                             Turkey             \n",
      "\n",
      "  Which of these desserts do you typically have at Thanksgiving dinner? Please select all that apply.   - Ice cream  \\\n",
      "7                                          Ice cream                                                                  \n",
      "\n",
      "   Count  \n",
      "7    234  \n",
      "  What is typically the main dish at your Thanksgiving dinner?  \\\n",
      "5                                             Turkey             \n",
      "\n",
      "  Which of these desserts do you typically have at Thanksgiving dinner? Please select all that apply.   - Peach cobbler  \\\n",
      "5                                      Peach cobbler                                                                      \n",
      "\n",
      "   Count  \n",
      "5     92  \n",
      "  What is typically the main dish at your Thanksgiving dinner?  \\\n",
      "6                                             Turkey             \n",
      "\n",
      "  Which of these desserts do you typically have at Thanksgiving dinner? Please select all that apply.   - None  \\\n",
      "6                                               None                                                             \n",
      "\n",
      "   Count  \n",
      "6    266  \n",
      "  What is typically the main dish at your Thanksgiving dinner?  \\\n",
      "5                                             Turkey             \n",
      "\n",
      "  Which of these desserts do you typically have at Thanksgiving dinner? Please select all that apply.   - Other (please specify)  \\\n",
      "5                             Other (please specify)                                                                               \n",
      "\n",
      "   Count  \n",
      "5    109  \n",
      "   What is typically the main dish at your Thanksgiving dinner?  \\\n",
      "80                                             Turkey             \n",
      "\n",
      "   Which of these desserts do you typically have at Thanksgiving dinner? Please select all that apply.   - Other (please specify).1  \\\n",
      "80                                                pie                                                                                 \n",
      "\n",
      "    Count  \n",
      "80     12  \n"
     ]
    }
   ],
   "source": [
    "def get_most_common_main_dish(column_id):\n",
    "    meal_choice_columns = list()\n",
    "    meal_choice_columns.append(filtered_data.columns[2])\n",
    "    meal_choice_columns.append(filtered_data.columns[column_id])\n",
    "    \n",
    "    complete_meal_counts = filtered_data.groupby(meal_choice_columns).size().reset_index().rename(columns={0:'Count'})\n",
    "\n",
    "    return(complete_meal_counts.loc[complete_meal_counts['Count'] == complete_meal_counts['Count'].max()])\n",
    "    \n",
    "dessert_column_ids = list(range(39,51))  \n",
    "\n",
    "for dessert_column_id in dessert_column_ids:\n",
    "    print(get_most_common_main_dish(dessert_column_id))"
   ]
  },
  {
   "cell_type": "markdown",
   "metadata": {},
   "source": [
    "# Conclusion:\n",
    "It should come as no surprise that the most common main dish served with each chosen dessert was turkey; the most common combination being turkey with ice cream for dessert."
   ]
  }
 ],
 "metadata": {
  "anaconda-cloud": {},
  "kernelspec": {
   "display_name": "Python [conda root]",
   "language": "python",
   "name": "conda-root-py"
  },
  "language_info": {
   "codemirror_mode": {
    "name": "ipython",
    "version": 3
   },
   "file_extension": ".py",
   "mimetype": "text/x-python",
   "name": "python",
   "nbconvert_exporter": "python",
   "pygments_lexer": "ipython3",
   "version": "3.5.2"
  }
 },
 "nbformat": 4,
 "nbformat_minor": 1
}
