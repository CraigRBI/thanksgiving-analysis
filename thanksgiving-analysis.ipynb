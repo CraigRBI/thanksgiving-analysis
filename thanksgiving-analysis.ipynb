{
 "cells": [
  {
   "cell_type": "code",
   "execution_count": 1,
   "metadata": {
    "collapsed": true
   },
   "outputs": [],
   "source": [
    "import os, numpy as np, pandas as pd\n",
    "\n",
    "data = pd.read_csv(\"thanksgiving-data/thanksgiving-2015-poll-data.csv\", encoding=\"Latin-1\")"
   ]
  },
  {
   "cell_type": "markdown",
   "metadata": {
    "collapsed": true
   },
   "source": [
    "# Question:\n",
    "Figure out the most common dessert people eat."
   ]
  },
  {
   "cell_type": "code",
   "execution_count": 2,
   "metadata": {
    "collapsed": false
   },
   "outputs": [
    {
     "name": "stdout",
     "output_type": "stream",
     "text": [
      "Which of these desserts do you typically have at Thanksgiving dinner? Please select all that apply.   - Apple cobbler               110\n",
      "Which of these desserts do you typically have at Thanksgiving dinner? Please select all that apply.   - Blondies                     16\n",
      "Which of these desserts do you typically have at Thanksgiving dinner? Please select all that apply.   - Brownies                    128\n",
      "Which of these desserts do you typically have at Thanksgiving dinner? Please select all that apply.   - Carrot cake                  72\n",
      "Which of these desserts do you typically have at Thanksgiving dinner? Please select all that apply.   - Cheesecake                  191\n",
      "Which of these desserts do you typically have at Thanksgiving dinner? Please select all that apply.   - Cookies                     204\n",
      "Which of these desserts do you typically have at Thanksgiving dinner? Please select all that apply.   - Fudge                        43\n",
      "Which of these desserts do you typically have at Thanksgiving dinner? Please select all that apply.   - Ice cream                   266\n",
      "Which of these desserts do you typically have at Thanksgiving dinner? Please select all that apply.   - Peach cobbler               103\n",
      "Which of these desserts do you typically have at Thanksgiving dinner? Please select all that apply.   - None                        295\n",
      "Which of these desserts do you typically have at Thanksgiving dinner? Please select all that apply.   - Other (please specify)      134\n",
      "Which of these desserts do you typically have at Thanksgiving dinner? Please select all that apply.   - Other (please specify).1    134\n",
      "dtype: int64\n"
     ]
    }
   ],
   "source": [
    "print(data[['Which of these desserts do you typically have at Thanksgiving dinner? Please select all that apply.   - Apple cobbler',\n",
    "              'Which of these desserts do you typically have at Thanksgiving dinner? Please select all that apply.   - Blondies',\n",
    "              'Which of these desserts do you typically have at Thanksgiving dinner? Please select all that apply.   - Brownies',\n",
    "              'Which of these desserts do you typically have at Thanksgiving dinner? Please select all that apply.   - Carrot cake',\n",
    "              'Which of these desserts do you typically have at Thanksgiving dinner? Please select all that apply.   - Cheesecake',\n",
    "              'Which of these desserts do you typically have at Thanksgiving dinner? Please select all that apply.   - Cookies',\n",
    "              'Which of these desserts do you typically have at Thanksgiving dinner? Please select all that apply.   - Fudge',\n",
    "              'Which of these desserts do you typically have at Thanksgiving dinner? Please select all that apply.   - Ice cream',\n",
    "              'Which of these desserts do you typically have at Thanksgiving dinner? Please select all that apply.   - Peach cobbler',\n",
    "              'Which of these desserts do you typically have at Thanksgiving dinner? Please select all that apply.   - None',\n",
    "              'Which of these desserts do you typically have at Thanksgiving dinner? Please select all that apply.   - Other (please specify)',\n",
    "              'Which of these desserts do you typically have at Thanksgiving dinner? Please select all that apply.   - Other (please specify).1'\n",
    "             ]].count(axis=0))"
   ]
  },
  {
   "cell_type": "markdown",
   "metadata": {},
   "source": [
    "# Conclusion:\n",
    "The most common dessert people ate was ice cream."
   ]
  },
  {
   "cell_type": "code",
   "execution_count": null,
   "metadata": {
    "collapsed": true
   },
   "outputs": [],
   "source": []
  }
 ],
 "metadata": {
  "anaconda-cloud": {},
  "kernelspec": {
   "display_name": "Python [conda root]",
   "language": "python",
   "name": "conda-root-py"
  },
  "language_info": {
   "codemirror_mode": {
    "name": "ipython",
    "version": 3
   },
   "file_extension": ".py",
   "mimetype": "text/x-python",
   "name": "python",
   "nbconvert_exporter": "python",
   "pygments_lexer": "ipython3",
   "version": "3.5.2"
  }
 },
 "nbformat": 4,
 "nbformat_minor": 1
}
